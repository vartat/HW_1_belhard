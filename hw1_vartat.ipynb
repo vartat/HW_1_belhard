{
  "cells": [
    {
      "cell_type": "code",
      "execution_count": null,
      "metadata": {
        "id": "Plz61-wMAUh3"
      },
      "outputs": [],
      "source": [
        "from ctypes import Structure\n",
        "import numpy as np\n",
        "import pandas as pd\n",
        "\n",
        "from sklearn.datasets import make_classification\n",
        "from sklearn.model_selection import train_test_split\n",
        "from sklearn.preprocessing import StandardScaler\n",
        "from sklearn.metrics import accuracy_score\n",
        "\n",
        "import seaborn as sns\n",
        "import matplotlib.pyplot as plt\n"
      ]
    },
    {
      "cell_type": "markdown",
      "metadata": {
        "id": "oB6MOjZoBSUe"
      },
      "source": [
        "The dataset includes 23 columns, excluding the ID columns.\n",
        "\n",
        "Customer satisfaction is going to be our binary outcome variable (satisfied or not satisfied/neutral).\n",
        "Numeric variables are age, flight distance, arrival delay and departure delay in minutes.\n",
        "Nominal (unordered) factor variables are gender, customer loyalty (loyal or disloyal), type of travel (personal or business) and class (business, eco, ecoplus).\n",
        "Ordered factor variables are the 1-5 satisfaction ratings for various aspects of service, such as:\n",
        "Wifi service,\n",
        "Convenience of departure and arrival time,\n",
        "Ease of online booking,\n",
        "Gate location,\n",
        "Food and drink,\n",
        "and 9 more ratings."
      ]
    },
    {
      "cell_type": "code",
      "execution_count": null,
      "metadata": {
        "colab": {
          "base_uri": "https://localhost:8080/"
        },
        "id": "geY_QkdRBZKQ",
        "outputId": "beb3db51-2e95-4d67-ee0e-0a5d9b60bcc7"
      },
      "outputs": [
        {
          "name": "stdout",
          "output_type": "stream",
          "text": [
            "<class 'pandas.core.frame.DataFrame'>\n",
            "RangeIndex: 103904 entries, 0 to 103903\n",
            "Data columns (total 25 columns):\n",
            " #   Column                             Non-Null Count   Dtype  \n",
            "---  ------                             --------------   -----  \n",
            " 0   Unnamed: 0                         103904 non-null  int64  \n",
            " 1   id                                 103904 non-null  int64  \n",
            " 2   Gender                             103904 non-null  object \n",
            " 3   Customer Type                      103904 non-null  object \n",
            " 4   Age                                103904 non-null  int64  \n",
            " 5   Type of Travel                     103904 non-null  object \n",
            " 6   Class                              103904 non-null  object \n",
            " 7   Flight Distance                    103904 non-null  int64  \n",
            " 8   Inflight wifi service              103904 non-null  int64  \n",
            " 9   Departure/Arrival time convenient  103904 non-null  int64  \n",
            " 10  Ease of Online booking             103904 non-null  int64  \n",
            " 11  Gate location                      103904 non-null  int64  \n",
            " 12  Food and drink                     103904 non-null  int64  \n",
            " 13  Online boarding                    103904 non-null  int64  \n",
            " 14  Seat comfort                       103904 non-null  int64  \n",
            " 15  Inflight entertainment             103904 non-null  int64  \n",
            " 16  On-board service                   103904 non-null  int64  \n",
            " 17  Leg room service                   103904 non-null  int64  \n",
            " 18  Baggage handling                   103904 non-null  int64  \n",
            " 19  Checkin service                    103904 non-null  int64  \n",
            " 20  Inflight service                   103904 non-null  int64  \n",
            " 21  Cleanliness                        103904 non-null  int64  \n",
            " 22  Departure Delay in Minutes         103904 non-null  int64  \n",
            " 23  Arrival Delay in Minutes           103594 non-null  float64\n",
            " 24  satisfaction                       103904 non-null  object \n",
            "dtypes: float64(1), int64(19), object(5)\n",
            "memory usage: 19.8+ MB\n"
          ]
        }
      ],
      "source": [
        "train_air = pd.read_csv('train_air.csv')\n",
        "test_air = pd.read_csv('test_air.csv')\n",
        "\n",
        "train_air.info()"
      ]
    },
    {
      "cell_type": "code",
      "execution_count": null,
      "metadata": {
        "colab": {
          "base_uri": "https://localhost:8080/"
        },
        "id": "IUPY-8opB0jr",
        "outputId": "9270521a-304c-4efb-d9a2-b3434deda9b0"
      },
      "outputs": [
        {
          "data": {
            "text/plain": [
              "Unnamed: 0                             0\n",
              "id                                     0\n",
              "Gender                                 0\n",
              "Customer Type                          0\n",
              "Age                                    0\n",
              "Type of Travel                         0\n",
              "Class                                  0\n",
              "Flight Distance                        0\n",
              "Inflight wifi service                  0\n",
              "Departure/Arrival time convenient      0\n",
              "Ease of Online booking                 0\n",
              "Gate location                          0\n",
              "Food and drink                         0\n",
              "Online boarding                        0\n",
              "Seat comfort                           0\n",
              "Inflight entertainment                 0\n",
              "On-board service                       0\n",
              "Leg room service                       0\n",
              "Baggage handling                       0\n",
              "Checkin service                        0\n",
              "Inflight service                       0\n",
              "Cleanliness                            0\n",
              "Departure Delay in Minutes             0\n",
              "Arrival Delay in Minutes             310\n",
              "satisfaction                           0\n",
              "dtype: int64"
            ]
          },
          "execution_count": 3,
          "metadata": {},
          "output_type": "execute_result"
        }
      ],
      "source": [
        "#identify missing values\n",
        "train_air.isnull().sum()"
      ]
    },
    {
      "cell_type": "markdown",
      "metadata": {
        "id": "DpNfL6RGLJmG"
      },
      "source": [
        "Задача - построить модель классификации для определения класса пассажира."
      ]
    },
    {
      "cell_type": "code",
      "execution_count": null,
      "metadata": {
        "id": "pR_kHLTzPN9I"
      },
      "outputs": [],
      "source": [
        "#все признаки object переведем в категориальные, а потом разберемся, что с ними делать\n",
        "train_air[['Class','Gender','Customer Type','Type of Travel','satisfaction']]=train_air[['Class','Gender','Customer Type','Type of Travel','satisfaction']].astype('category')\n",
        "test_air[['Class','Gender','Customer Type','Type of Travel','satisfaction']]=test_air[['Class','Gender','Customer Type','Type of Travel','satisfaction']].astype('category')\n",
        "\n",
        "# Разделение данных на обучающий и тестовый наборы\n",
        "\n",
        "#удаление столбцов с целевой переменной 'Class' и 'Arrival Delay in Minutes', содержащего пропущенные значения\n",
        "#(выбор класса перелета никак не зависит от такого признака, как задержка времени прибытия)\n",
        "#заодно все столбцы с категориальными признаками (логистическая регрессия их не принимает)\n",
        "\n",
        "x_train = train_air.drop(['Class','Arrival Delay in Minutes','Gender','Customer Type','Type of Travel','satisfaction'], axis = 1)\n",
        "y_train = train_air['Class']\n",
        "x_test=test_air.drop(['Class','Arrival Delay in Minutes','Gender','Customer Type','Type of Travel','satisfaction'], axis = 1)\n",
        "y_test=test_air['Class']\n",
        "\n",
        "# Нормализация признаков\n",
        "scaler = StandardScaler()\n",
        "x_train = scaler.fit_transform(x_train)\n",
        "x_test = scaler.transform(x_test)\n"
      ]
    },
    {
      "cell_type": "markdown",
      "metadata": {
        "id": "RejYnjs_oqZ7"
      },
      "source": [
        "гистограммы, для оценки соотношения встречаемости классов в обучающей и тестовой выборках"
      ]
    },
    {
      "cell_type": "code",
      "execution_count": null,
      "metadata": {
        "colab": {
          "base_uri": "https://localhost:8080/",
          "height": 411
        },
        "id": "JAiB74lWWC-C",
        "outputId": "5940a990-dc2b-4d66-e3c3-913064566f8b"
      },
      "outputs": [
        {
          "data": {
            "image/png": "[encoded data removed]",
            "text/plain": [
              "<Figure size 800x400 with 2 Axes>"
            ]
          },
          "metadata": {},
          "output_type": "display_data"
        }
      ],
      "source": [
        "fig, (ax1, ax2) = plt.subplots(1, 2,\n",
        "                                    figsize = (8, 4),\n",
        "                                    gridspec_kw = {'wspace': 0.3, 'hspace': 0.3})\n",
        "\n",
        "sns.histplot(y_train, ax = ax1)\n",
        "ax1.set_title('train data', fontsize = 14)\n",
        "\n",
        "sns.histplot(y_test, ax = ax2)\n",
        "ax2.set_title('test data', fontsize = 14)\n",
        "\n",
        "plt.show()"
      ]
    },
    {
      "cell_type": "markdown",
      "metadata": {
        "id": "X_4GfNb-WAEW"
      },
      "source": [
        "**Логистическая регрессия** решает задачу бинарной классификации, но так как у целевого признака три категории ('Eco','Eco Plus','Business') рассмотрим подходы мультиклассовой логистической регрессии."
      ]
    },
    {
      "cell_type": "code",
      "execution_count": null,
      "metadata": {
        "colab": {
          "base_uri": "https://localhost:8080/"
        },
        "id": "XHICbH78XT63",
        "outputId": "bc23b4a2-6adc-4ea3-fb5b-5c17784a6b83"
      },
      "outputs": [
        {
          "data": {
            "text/plain": [
              "0.7107714813674161"
            ]
          },
          "execution_count": 97,
          "metadata": {},
          "output_type": "execute_result"
        }
      ],
      "source": [
        "#для того чтобы применить подход one-vs-rest в классе LogisticRegression, необходимо использовать значение параметра multi_class = ‘ovr’\n",
        "#чтобы использовать softmax логистическую регрессию в sklearn, параметр multi_class = ‘multinomial’\n",
        "#оба параметра дают практически одинаковый результат (оставила лучший)\n",
        "\n",
        "from sklearn.metrics import classification_report, confusion_matrix, accuracy_score\n",
        "from sklearn.linear_model import LogisticRegression\n",
        "\n",
        "#model = LogisticRegression(multi_class = 'ovr')\n",
        "model = LogisticRegression(multi_class = 'multinomial')\n",
        "\n",
        "model.fit(x_train, y_train, sample_weight=None)\n",
        "y_pred = model.predict(x_test)\n",
        "accuracy_score(y_pred, y_test)"
      ]
    },
    {
      "cell_type": "code",
      "execution_count": null,
      "metadata": {
        "colab": {
          "base_uri": "https://localhost:8080/"
        },
        "id": "BzqRQocVcaZp",
        "outputId": "8121555e-f2dc-4680-d12e-bf5e57997c6d"
      },
      "outputs": [
        {
          "data": {
            "text/plain": [
              "array([[9243, 2344,  346],\n",
              "       [3252, 9220, 1571],\n",
              "       [   0,    0,    0]])"
            ]
          },
          "execution_count": 98,
          "metadata": {},
          "output_type": "execute_result"
        }
      ],
      "source": [
        "confusion_matrix(y_pred, y_test)"
      ]
    },
    {
      "cell_type": "markdown",
      "metadata": {
        "id": "UlPyPkB6d5GF"
      },
      "source": [
        "Глядя на матрицу, возникает вопрос - где третий класс? Похоже-таки, бинарная классификация..."
      ]
    },
    {
      "cell_type": "markdown",
      "metadata": {
        "id": "QJLgVwmbafOa"
      },
      "source": [
        "**Рассмотрим полиномиальную регрессию (2 степени)**"
      ]
    },
    {
      "cell_type": "code",
      "execution_count": null,
      "metadata": {
        "colab": {
          "base_uri": "https://localhost:8080/"
        },
        "id": "L1iM9NxGCb18",
        "outputId": "9c25f2bf-a68b-449c-c472-7c1ce2c75473"
      },
      "outputs": [
        {
          "name": "stderr",
          "output_type": "stream",
          "text": [
            "/usr/local/lib/python3.10/dist-packages/sklearn/linear_model/_logistic.py:458: ConvergenceWarning: lbfgs failed to converge (status=1):\n",
            "STOP: TOTAL NO. of ITERATIONS REACHED LIMIT.\n",
            "\n",
            "Increase the number of iterations (max_iter) or scale the data as shown in:\n",
            "    https://scikit-learn.org/stable/modules/preprocessing.html\n",
            "Please also refer to the documentation for alternative solver options:\n",
            "    https://scikit-learn.org/stable/modules/linear_model.html#logistic-regression\n",
            "  n_iter_i = _check_optimize_result(\n"
          ]
        },
        {
          "data": {
            "text/plain": [
              "0.7759855251000924"
            ]
          },
          "execution_count": 54,
          "metadata": {},
          "output_type": "execute_result"
        }
      ],
      "source": [
        "from sklearn.preprocessing import PolynomialFeatures\n",
        "\n",
        "polynomial_features = PolynomialFeatures(degree = 2)\n",
        "\n",
        "#трансформируем обучающую и тестовую выборки\n",
        "x_trainpoly = polynomial_features.fit_transform(x_train)\n",
        "x_testpoly = polynomial_features.fit_transform(x_test)\n",
        "\n",
        "poly_ovr_model = LogisticRegression(multi_class = 'ovr')\n",
        "poly_ovr_model = poly_ovr_model.fit(x_trainpoly, y_train)\n",
        "y_pred = poly_ovr_model.predict(x_testpoly)\n",
        "\n",
        "accuracy_score(y_pred, y_test)"
      ]
    },
    {
      "cell_type": "code",
      "execution_count": null,
      "metadata": {
        "colab": {
          "base_uri": "https://localhost:8080/"
        },
        "id": "PRtyGPRdbW5n",
        "outputId": "0ac31321-d652-4973-e62f-2b8b5e11dcc7"
      },
      "outputs": [
        {
          "data": {
            "text/plain": [
              "array([[10170,  1578,   292],\n",
              "       [ 2324,  9985,  1623],\n",
              "       [    1,     1,     2]])"
            ]
          },
          "execution_count": 55,
          "metadata": {},
          "output_type": "execute_result"
        }
      ],
      "source": [
        "confusion_matrix(y_pred, y_test)"
      ]
    },
    {
      "cell_type": "markdown",
      "metadata": {
        "id": "9AxLLRcje8xb"
      },
      "source": [
        "**Вернем категориальные данные, предварительно преобразовав их в числовые данные, используя LabelEncoder.**"
      ]
    },
    {
      "cell_type": "code",
      "execution_count": null,
      "metadata": {
        "colab": {
          "base_uri": "https://localhost:8080/"
        },
        "id": "X5QVr_dhfSb1",
        "outputId": "633a8227-1796-414e-f75c-ec9f8e82622b"
      },
      "outputs": [
        {
          "data": {
            "text/plain": [
              "0.7817600862334463"
            ]
          },
          "execution_count": 100,
          "metadata": {},
          "output_type": "execute_result"
        }
      ],
      "source": [
        "from sklearn.preprocessing import LabelEncoder\n",
        "LabEn = LabelEncoder()\n",
        "train_air1=train_air\n",
        "test_air1=test_air\n",
        "\n",
        "#train_air1[['Gender','Customer Type','Type of Travel','satisfaction']]=LabEn.fit_transform(train_air1[['Gender','Customer Type','Type of Travel','satisfaction']])\n",
        "train_air1['Gender']=LabEn.fit_transform(train_air1['Gender'])\n",
        "train_air1['Customer Type']=LabEn.fit_transform(train_air1['Customer Type'])\n",
        "train_air1['Type of Travel']=LabEn.fit_transform(train_air1['Type of Travel'])\n",
        "train_air1['satisfaction']=LabEn.fit_transform(train_air1['satisfaction'])\n",
        "\n",
        "test_air1['Gender']=LabEn.fit_transform(test_air1['Gender'])\n",
        "test_air1['Customer Type']=LabEn.fit_transform(test_air1['Customer Type'])\n",
        "test_air1['Type of Travel']=LabEn.fit_transform(test_air1['Type of Travel'])\n",
        "test_air1['satisfaction']=LabEn.fit_transform(test_air1['satisfaction'])\n",
        "\n",
        "x_train = train_air1.drop(['Class','Arrival Delay in Minutes'], axis = 1)\n",
        "y_train = train_air1['Class']\n",
        "x_test=test_air1.drop(['Class','Arrival Delay in Minutes'], axis = 1)\n",
        "y_test=test_air1['Class']\n",
        "\n",
        "# Нормализация признаков\n",
        "scaler = StandardScaler()\n",
        "x_train = scaler.fit_transform(x_train)\n",
        "x_test = scaler.transform(x_test)\n",
        "\n",
        "model = LogisticRegression(multi_class = 'multinomial')\n",
        "\n",
        "model.fit(x_train, y_train, sample_weight=None)\n",
        "y_pred = model.predict(x_test)\n",
        "accuracy_score(y_pred, y_test)\n"
      ]
    },
    {
      "cell_type": "code",
      "execution_count": null,
      "metadata": {
        "colab": {
          "base_uri": "https://localhost:8080/"
        },
        "id": "Wc8tgb3rmu75",
        "outputId": "60e42321-16e0-47c1-c4d8-d91816c41553"
      },
      "outputs": [
        {
          "data": {
            "text/plain": [
              "array([[10604,  1861,   470],\n",
              "       [ 1891,  9703,  1447],\n",
              "       [    0,     0,     0]])"
            ]
          },
          "execution_count": 101,
          "metadata": {},
          "output_type": "execute_result"
        }
      ],
      "source": [
        "confusion_matrix(y_pred, y_test)"
      ]
    },
    {
      "cell_type": "code",
      "execution_count": null,
      "metadata": {
        "colab": {
          "base_uri": "https://localhost:8080/"
        },
        "id": "OLBNgFQGkwqY",
        "outputId": "f4fd7a95-edf8-48f8-c324-80ca5ce0fc83"
      },
      "outputs": [
        {
          "name": "stderr",
          "output_type": "stream",
          "text": [
            "/usr/local/lib/python3.10/dist-packages/sklearn/linear_model/_logistic.py:458: ConvergenceWarning: lbfgs failed to converge (status=1):\n",
            "STOP: TOTAL NO. of ITERATIONS REACHED LIMIT.\n",
            "\n",
            "Increase the number of iterations (max_iter) or scale the data as shown in:\n",
            "    https://scikit-learn.org/stable/modules/preprocessing.html\n",
            "Please also refer to the documentation for alternative solver options:\n",
            "    https://scikit-learn.org/stable/modules/linear_model.html#logistic-regression\n",
            "  n_iter_i = _check_optimize_result(\n"
          ]
        },
        {
          "data": {
            "text/plain": [
              "0.8285725284878349"
            ]
          },
          "execution_count": 102,
          "metadata": {},
          "output_type": "execute_result"
        }
      ],
      "source": [
        "from sklearn.preprocessing import PolynomialFeatures\n",
        "\n",
        "polynomial_features = PolynomialFeatures(degree = 2)\n",
        "\n",
        "#трансформируем обучающую и тестовую выборки\n",
        "x_trainpoly = polynomial_features.fit_transform(x_train)\n",
        "x_testpoly = polynomial_features.fit_transform(x_test)\n",
        "\n",
        "poly_ovr_model = LogisticRegression(multi_class = 'multinomial')\n",
        "poly_ovr_model = poly_ovr_model.fit(x_trainpoly, y_train)\n",
        "y_pred = poly_ovr_model.predict(x_testpoly)\n",
        "\n",
        "accuracy_score(y_pred, y_test)"
      ]
    },
    {
      "cell_type": "code",
      "execution_count": null,
      "metadata": {
        "colab": {
          "base_uri": "https://localhost:8080/"
        },
        "id": "l4iwHnQYm7W0",
        "outputId": "c10ce427-1ca8-4655-8f17-51c2c09b30d9"
      },
      "outputs": [
        {
          "data": {
            "text/plain": [
              "array([[11043,  1083,   262],\n",
              "       [ 1451, 10471,  1646],\n",
              "       [    1,    10,     9]])"
            ]
          },
          "execution_count": 103,
          "metadata": {},
          "output_type": "execute_result"
        }
      ],
      "source": [
        "confusion_matrix(y_pred, y_test)"
      ]
    },
    {
      "cell_type": "markdown",
      "metadata": {
        "id": "eOUHrLdIrl9W"
      },
      "source": [
        "Дерево решений (с категориальными признаками не строится)"
      ]
    },
    {
      "cell_type": "code",
      "execution_count": null,
      "metadata": {
        "colab": {
          "base_uri": "https://localhost:8080/"
        },
        "id": "5Vim5Iobr53r",
        "outputId": "beb21e8f-3fab-45ac-f414-b3a9ee9f1ef2"
      },
      "outputs": [
        {
          "output_type": "execute_result",
          "data": {
            "text/plain": [
              "0.7896904835232522"
            ]
          },
          "metadata": {},
          "execution_count": 110
        }
      ],
      "source": [
        "train_air1 = pd.read_csv('train_air.csv')\n",
        "test_air1 = pd.read_csv('test_air.csv')\n",
        "\n",
        "train_air1['Gender']=LabEn.fit_transform(train_air1['Gender'])\n",
        "train_air1['Customer Type']=LabEn.fit_transform(train_air1['Customer Type'])\n",
        "train_air1['Type of Travel']=LabEn.fit_transform(train_air1['Type of Travel'])\n",
        "train_air1['satisfaction']=LabEn.fit_transform(train_air1['satisfaction'])\n",
        "\n",
        "test_air1['Gender']=LabEn.fit_transform(test_air1['Gender'])\n",
        "test_air1['Customer Type']=LabEn.fit_transform(test_air1['Customer Type'])\n",
        "test_air1['Type of Travel']=LabEn.fit_transform(test_air1['Type of Travel'])\n",
        "test_air1['satisfaction']=LabEn.fit_transform(test_air1['satisfaction'])\n",
        "x_train = train_air1.drop(['Class','Arrival Delay in Minutes'], axis = 1)\n",
        "y_train = train_air1['Class']\n",
        "x_test=test_air1.drop(['Class','Arrival Delay in Minutes'], axis = 1)\n",
        "y_test=test_air1['Class']\n",
        "\n",
        "from sklearn import tree\n",
        "cl_tree = tree.DecisionTreeClassifier()\n",
        "clf = cl_tree.fit(x_train, y_train)\n",
        "y_pred=cl_tree.predict(x_test)\n",
        "accuracy_score(y_pred, y_test)\n",
        "\n"
      ]
    }
  ],
  "metadata": {
    "colab": {
      "provenance": []
    },
    "kernelspec": {
      "display_name": "Python 3",
      "name": "python3"
    },
    "language_info": {
      "name": "python"
    }
  },
  "nbformat": 4,
  "nbformat_minor": 0
}